{
 "cells": [
  {
   "cell_type": "markdown",
   "metadata": {},
   "source": [
    "#                   Predicting  Type of Chocolate People like"
   ]
  },
  {
   "cell_type": "markdown",
   "metadata": {},
   "source": [
    "## Rishabh"
   ]
  },
  {
   "cell_type": "markdown",
   "metadata": {},
   "source": [
    "May 19,2020"
   ]
  },
  {
   "cell_type": "markdown",
   "metadata": {},
   "source": [
    "## 1. Introduction:"
   ]
  },
  {
   "cell_type": "markdown",
   "metadata": {},
   "source": [
    "#### Background"
   ]
  },
  {
   "cell_type": "markdown",
   "metadata": {},
   "source": [
    "Location plays a very critical role in the success or downfall of any offline business. I will be taking the example of chocolate business here. If the location for chocolate(bakery) is at a place where very few of the public comes, then, it will be hard for the business to grow. Especially if the business is newly born.\n",
    "There are many restaurant places that shut down without choosing a good location. All that matters in this industry is that you have to open your store in a place that is having a good footfall of customers and the second thing that matters is that your quality of the food that you are proving. In this I will not be discussing about the quality of the food, rather I will be focusing on the place from where my client can easily bring in customers as his business is new and needs a direction for all this."
   ]
  },
  {
   "cell_type": "markdown",
   "metadata": {},
   "source": [
    "#### Problem"
   ]
  },
  {
   "cell_type": "markdown",
   "metadata": {},
   "source": [
    "Among the other issues, finding a location with good amount of customer footfall is very neccessary for any person who wants to start his business and grow its business. Having location of the business in the prime areas will give the business reputation a boost in the eyes of public because this will be similar to doing advertisement. Usually it is said that for restaurant business, the more the traffic in surrounding places, the more likely a customer will come to our place.\n"
   ]
  },
  {
   "cell_type": "markdown",
   "metadata": {},
   "source": [
    "Further in the second part of this project, I will be explaining about the **which type of chocolate people are mostly to choose to eat?** .\n",
    "Since our business is related to restaurant industry, I will be using their locations to show the results."
   ]
  },
  {
   "cell_type": "markdown",
   "metadata": {},
   "source": [
    "#### Interest"
   ]
  },
  {
   "cell_type": "markdown",
   "metadata": {},
   "source": [
    "Obviously, my client is interested in getting the best location to start his business as this is among some of the prime factors affecting the business. Other people, like anybody who will are interested in collecting information where the most restaurants are?, where they can eat good will also be very interested in such data analysis."
   ]
  },
  {
   "cell_type": "markdown",
   "metadata": {},
   "source": [
    "## Data Acquisition and Cleaning"
   ]
  },
  {
   "cell_type": "markdown",
   "metadata": {},
   "source": [
    "#### Data Sources"
   ]
  },
  {
   "cell_type": "markdown",
   "metadata": {},
   "source": [
    "I have Collected data from Kaggle.com. For data regarding location link is <a hrefs=\"https://www.kaggle.com/datafiniti/fast-food-restaurants\">here</a> and information regarding chocolate is <a hrefs=\"https://www.kaggle.com/rtatman/chocolate-bar-ratings\">here</a>. Some infomation of the popluar places that people visit in Los Angeles has been collected from <a hrefs=\"https://www.google.co.in/travel/things-to-do?g2lb=2502548,4258168,4260007,4270442,4274032,4291318,4305595,4306835,4308227,4317915,4326765,4328159,4329288,4366684,4369397,4373849,4382325,4385383,4386665,4270859,4284970,4291517,4316256,4356900&hl=en&gl=in&un=1&otf=1&dest_mid=/m/030qb3t&dest_state_type=main&dest_src=ts&tcfs=EgwKCi9tLzAzMHFiM3Q&sa=X&ved=2ahUKEwjaxpq60sDpAhVJIbcAHUsLAJoQ6tEBKAQwAXoECB4QCw\">google</a>."
   ]
  },
  {
   "cell_type": "markdown",
   "metadata": {},
   "source": [
    "#### Data Cleaning "
   ]
  },
  {
   "cell_type": "markdown",
   "metadata": {},
   "source": [
    "I downloaded data from kaggle.com. While, reading the data, i found some values that are missing. since my client wants know about the best locations to start his business in Los Angeles, therefore, I decided to use only the data of Los Angles restaurants.\n",
    "In this step I cleaned the data imported from the kaggle.com. I, firstly Cleaned the data by deleting all the other cities information because its of no use for now. i deleted those because my client wants to start its business operations in Los Angeles. \n",
    "After somewhat making the data useful i checked some of the popular places in Los Angeles. This would give some extra information to me regarding the popular places people in los angeles wants ot visit and they loved. I also went to see, some major types of companies that sell chocolates in US. What are their expert rating, etc. Collecting all those, I finally arrive at Plotting some some the location points."
   ]
  },
  {
   "cell_type": "markdown",
   "metadata": {},
   "source": [
    "#### Features Selecting"
   ]
  },
  {
   "cell_type": "markdown",
   "metadata": {},
   "source": [
    "I found that i dont need Country, province, keys as these will not be any helpful if the data is already for a place i wanted it to be. Therefore, I am dropping those columns/features.\n",
    "There are many things besides this. I have explained them as below:"
   ]
  },
  {
   "cell_type": "markdown",
   "metadata": {},
   "source": [
    "#### Location Points using FourSquare"
   ]
  },
  {
   "cell_type": "code",
   "execution_count": 6,
   "metadata": {},
   "outputs": [
    {
     "name": "stdout",
     "output_type": "stream",
     "text": [
      "Libraries imported.\n"
     ]
    }
   ],
   "source": [
    "import numpy as np # library to handle data in a vectorized manner\n",
    "\n",
    "import pandas as pd # library for data analsysis\n",
    "pd.set_option('display.max_columns', None)\n",
    "pd.set_option('display.max_rows', None)\n",
    "\n",
    "import json # library to handle JSON files\n",
    "\n",
    "# !conda install -c conda-forge geopy --yes # uncomment this line if you haven't completed the Foursquare API lab\n",
    "from geopy.geocoders import Nominatim # convert an address into latitude and longitude values\n",
    "\n",
    "import requests # library to handle requests\n",
    "from pandas.io.json import json_normalize # tranform JSON file into a pandas dataframe\n",
    "\n",
    "# Matplotlib and associated plotting modules\n",
    "import matplotlib.cm as cm\n",
    "import matplotlib.colors as colors\n",
    "\n",
    "# import k-means from clustering stage\n",
    "from sklearn.cluster import KMeans\n",
    "\n",
    "#!conda install -c conda-forge folium=0.5.0 --yes # uncomment this line if you haven't completed the Foursquare API lab\n",
    "import folium # map rendering library\n",
    "\n",
    "print('Libraries imported.')"
   ]
  },
  {
   "cell_type": "code",
   "execution_count": 5,
   "metadata": {},
   "outputs": [
    {
     "data": {
      "text/html": [
       "<div>\n",
       "<style scoped>\n",
       "    .dataframe tbody tr th:only-of-type {\n",
       "        vertical-align: middle;\n",
       "    }\n",
       "\n",
       "    .dataframe tbody tr th {\n",
       "        vertical-align: top;\n",
       "    }\n",
       "\n",
       "    .dataframe thead th {\n",
       "        text-align: right;\n",
       "    }\n",
       "</style>\n",
       "<table border=\"1\" class=\"dataframe\">\n",
       "  <thead>\n",
       "    <tr style=\"text-align: right;\">\n",
       "      <th></th>\n",
       "      <th>address</th>\n",
       "      <th>city</th>\n",
       "      <th>country</th>\n",
       "      <th>keys</th>\n",
       "      <th>latitude</th>\n",
       "      <th>longitude</th>\n",
       "      <th>name</th>\n",
       "      <th>postalCode</th>\n",
       "      <th>province</th>\n",
       "      <th>websites</th>\n",
       "    </tr>\n",
       "  </thead>\n",
       "  <tbody>\n",
       "    <tr>\n",
       "      <th>0</th>\n",
       "      <td>735 S Figueroa St</td>\n",
       "      <td>Los Angeles</td>\n",
       "      <td>US</td>\n",
       "      <td>us/ca/losangeles/735sfigueroast/-448666054</td>\n",
       "      <td>34.049246</td>\n",
       "      <td>-118.261753</td>\n",
       "      <td>Five Guys</td>\n",
       "      <td>90017</td>\n",
       "      <td>CA</td>\n",
       "      <td>http://fiveguys.com,http://www.fiveguys.com/</td>\n",
       "    </tr>\n",
       "    <tr>\n",
       "      <th>1</th>\n",
       "      <td>11733 Barrington Ct</td>\n",
       "      <td>Los Angeles</td>\n",
       "      <td>US</td>\n",
       "      <td>us/ca/losangeles/11733barringtonct/-891525969</td>\n",
       "      <td>34.064550</td>\n",
       "      <td>-118.469662</td>\n",
       "      <td>Subway</td>\n",
       "      <td>90049</td>\n",
       "      <td>CA</td>\n",
       "      <td>http://subway.com/</td>\n",
       "    </tr>\n",
       "    <tr>\n",
       "      <th>2</th>\n",
       "      <td>4949 W Slauson Ave</td>\n",
       "      <td>Los Angeles</td>\n",
       "      <td>US</td>\n",
       "      <td>us/ca/losangeles/4949wslausonave/-891525969</td>\n",
       "      <td>33.987741</td>\n",
       "      <td>-118.364558</td>\n",
       "      <td>SUBWAY</td>\n",
       "      <td>90056</td>\n",
       "      <td>CA</td>\n",
       "      <td>http://www.subway.com,http://subway.com/</td>\n",
       "    </tr>\n",
       "    <tr>\n",
       "      <th>3</th>\n",
       "      <td>12460 Venice Blvd</td>\n",
       "      <td>Los Angeles</td>\n",
       "      <td>US</td>\n",
       "      <td>us/ca/losangeles/12460veniceblvd/-66712705</td>\n",
       "      <td>34.002970</td>\n",
       "      <td>-118.434440</td>\n",
       "      <td>Pizza Hut</td>\n",
       "      <td>90066</td>\n",
       "      <td>CA</td>\n",
       "      <td>http://www.pizzahut.com,http://www.pizzahut.com/</td>\n",
       "    </tr>\n",
       "    <tr>\n",
       "      <th>4</th>\n",
       "      <td>5065 Hollywood Blvd</td>\n",
       "      <td>Los Angeles</td>\n",
       "      <td>US</td>\n",
       "      <td>us/ca/losangeles/5065hollywoodblvd/-891525969</td>\n",
       "      <td>34.102100</td>\n",
       "      <td>-118.300040</td>\n",
       "      <td>Subway</td>\n",
       "      <td>90027</td>\n",
       "      <td>CA</td>\n",
       "      <td>http://subway.com/</td>\n",
       "    </tr>\n",
       "  </tbody>\n",
       "</table>\n",
       "</div>"
      ],
      "text/plain": [
       "               address         city country  \\\n",
       "0    735 S Figueroa St  Los Angeles      US   \n",
       "1  11733 Barrington Ct  Los Angeles      US   \n",
       "2   4949 W Slauson Ave  Los Angeles      US   \n",
       "3    12460 Venice Blvd  Los Angeles      US   \n",
       "4  5065 Hollywood Blvd  Los Angeles      US   \n",
       "\n",
       "                                            keys   latitude   longitude  \\\n",
       "0     us/ca/losangeles/735sfigueroast/-448666054  34.049246 -118.261753   \n",
       "1  us/ca/losangeles/11733barringtonct/-891525969  34.064550 -118.469662   \n",
       "2    us/ca/losangeles/4949wslausonave/-891525969  33.987741 -118.364558   \n",
       "3     us/ca/losangeles/12460veniceblvd/-66712705  34.002970 -118.434440   \n",
       "4  us/ca/losangeles/5065hollywoodblvd/-891525969  34.102100 -118.300040   \n",
       "\n",
       "        name  postalCode province  \\\n",
       "0  Five Guys       90017       CA   \n",
       "1     Subway       90049       CA   \n",
       "2     SUBWAY       90056       CA   \n",
       "3  Pizza Hut       90066       CA   \n",
       "4     Subway       90027       CA   \n",
       "\n",
       "                                           websites  \n",
       "0      http://fiveguys.com,http://www.fiveguys.com/  \n",
       "1                                http://subway.com/  \n",
       "2          http://www.subway.com,http://subway.com/  \n",
       "3  http://www.pizzahut.com,http://www.pizzahut.com/  \n",
       "4                                http://subway.com/  "
      ]
     },
     "execution_count": 5,
     "metadata": {},
     "output_type": "execute_result"
    }
   ],
   "source": [
    "# verifying the data imported correctly or not?\n",
    "df = pd.read_excel('Project dataset.xlsx')\n",
    "df.head()"
   ]
  },
  {
   "cell_type": "code",
   "execution_count": 7,
   "metadata": {},
   "outputs": [
    {
     "data": {
      "text/html": [
       "<div>\n",
       "<style scoped>\n",
       "    .dataframe tbody tr th:only-of-type {\n",
       "        vertical-align: middle;\n",
       "    }\n",
       "\n",
       "    .dataframe tbody tr th {\n",
       "        vertical-align: top;\n",
       "    }\n",
       "\n",
       "    .dataframe thead th {\n",
       "        text-align: right;\n",
       "    }\n",
       "</style>\n",
       "<table border=\"1\" class=\"dataframe\">\n",
       "  <thead>\n",
       "    <tr style=\"text-align: right;\">\n",
       "      <th></th>\n",
       "      <th>address</th>\n",
       "      <th>city</th>\n",
       "      <th>country</th>\n",
       "      <th>keys</th>\n",
       "      <th>latitude</th>\n",
       "      <th>longitude</th>\n",
       "      <th>name</th>\n",
       "      <th>postalCode</th>\n",
       "      <th>province</th>\n",
       "      <th>websites</th>\n",
       "    </tr>\n",
       "  </thead>\n",
       "  <tbody>\n",
       "    <tr>\n",
       "      <th>0</th>\n",
       "      <td>False</td>\n",
       "      <td>False</td>\n",
       "      <td>False</td>\n",
       "      <td>False</td>\n",
       "      <td>False</td>\n",
       "      <td>False</td>\n",
       "      <td>False</td>\n",
       "      <td>False</td>\n",
       "      <td>False</td>\n",
       "      <td>False</td>\n",
       "    </tr>\n",
       "    <tr>\n",
       "      <th>1</th>\n",
       "      <td>False</td>\n",
       "      <td>False</td>\n",
       "      <td>False</td>\n",
       "      <td>False</td>\n",
       "      <td>False</td>\n",
       "      <td>False</td>\n",
       "      <td>False</td>\n",
       "      <td>False</td>\n",
       "      <td>False</td>\n",
       "      <td>False</td>\n",
       "    </tr>\n",
       "    <tr>\n",
       "      <th>2</th>\n",
       "      <td>False</td>\n",
       "      <td>False</td>\n",
       "      <td>False</td>\n",
       "      <td>False</td>\n",
       "      <td>False</td>\n",
       "      <td>False</td>\n",
       "      <td>False</td>\n",
       "      <td>False</td>\n",
       "      <td>False</td>\n",
       "      <td>False</td>\n",
       "    </tr>\n",
       "    <tr>\n",
       "      <th>3</th>\n",
       "      <td>False</td>\n",
       "      <td>False</td>\n",
       "      <td>False</td>\n",
       "      <td>False</td>\n",
       "      <td>False</td>\n",
       "      <td>False</td>\n",
       "      <td>False</td>\n",
       "      <td>False</td>\n",
       "      <td>False</td>\n",
       "      <td>False</td>\n",
       "    </tr>\n",
       "    <tr>\n",
       "      <th>4</th>\n",
       "      <td>False</td>\n",
       "      <td>False</td>\n",
       "      <td>False</td>\n",
       "      <td>False</td>\n",
       "      <td>False</td>\n",
       "      <td>False</td>\n",
       "      <td>False</td>\n",
       "      <td>False</td>\n",
       "      <td>False</td>\n",
       "      <td>False</td>\n",
       "    </tr>\n",
       "  </tbody>\n",
       "</table>\n",
       "</div>"
      ],
      "text/plain": [
       "   address   city  country   keys  latitude  longitude   name  postalCode  \\\n",
       "0    False  False    False  False     False      False  False       False   \n",
       "1    False  False    False  False     False      False  False       False   \n",
       "2    False  False    False  False     False      False  False       False   \n",
       "3    False  False    False  False     False      False  False       False   \n",
       "4    False  False    False  False     False      False  False       False   \n",
       "\n",
       "   province  websites  \n",
       "0     False     False  \n",
       "1     False     False  \n",
       "2     False     False  \n",
       "3     False     False  \n",
       "4     False     False  "
      ]
     },
     "execution_count": 7,
     "metadata": {},
     "output_type": "execute_result"
    }
   ],
   "source": [
    "#finding any missing data\n",
    "missing_data=df.isnull()\n",
    "missing_data.head()"
   ]
  },
  {
   "cell_type": "code",
   "execution_count": 15,
   "metadata": {},
   "outputs": [
    {
     "data": {
      "text/html": [
       "<div>\n",
       "<style scoped>\n",
       "    .dataframe tbody tr th:only-of-type {\n",
       "        vertical-align: middle;\n",
       "    }\n",
       "\n",
       "    .dataframe tbody tr th {\n",
       "        vertical-align: top;\n",
       "    }\n",
       "\n",
       "    .dataframe thead th {\n",
       "        text-align: right;\n",
       "    }\n",
       "</style>\n",
       "<table border=\"1\" class=\"dataframe\">\n",
       "  <thead>\n",
       "    <tr style=\"text-align: right;\">\n",
       "      <th></th>\n",
       "      <th>address</th>\n",
       "      <th>city</th>\n",
       "      <th>latitude</th>\n",
       "      <th>longitude</th>\n",
       "      <th>name</th>\n",
       "      <th>postalCode</th>\n",
       "      <th>websites</th>\n",
       "    </tr>\n",
       "  </thead>\n",
       "  <tbody>\n",
       "    <tr>\n",
       "      <th>0</th>\n",
       "      <td>735 S Figueroa St</td>\n",
       "      <td>Los Angeles</td>\n",
       "      <td>34.049246</td>\n",
       "      <td>-118.261753</td>\n",
       "      <td>Five Guys</td>\n",
       "      <td>90017</td>\n",
       "      <td>http://fiveguys.com,http://www.fiveguys.com/</td>\n",
       "    </tr>\n",
       "    <tr>\n",
       "      <th>1</th>\n",
       "      <td>11733 Barrington Ct</td>\n",
       "      <td>Los Angeles</td>\n",
       "      <td>34.064550</td>\n",
       "      <td>-118.469662</td>\n",
       "      <td>Subway</td>\n",
       "      <td>90049</td>\n",
       "      <td>http://subway.com/</td>\n",
       "    </tr>\n",
       "    <tr>\n",
       "      <th>2</th>\n",
       "      <td>4949 W Slauson Ave</td>\n",
       "      <td>Los Angeles</td>\n",
       "      <td>33.987741</td>\n",
       "      <td>-118.364558</td>\n",
       "      <td>SUBWAY</td>\n",
       "      <td>90056</td>\n",
       "      <td>http://www.subway.com,http://subway.com/</td>\n",
       "    </tr>\n",
       "    <tr>\n",
       "      <th>3</th>\n",
       "      <td>12460 Venice Blvd</td>\n",
       "      <td>Los Angeles</td>\n",
       "      <td>34.002970</td>\n",
       "      <td>-118.434440</td>\n",
       "      <td>Pizza Hut</td>\n",
       "      <td>90066</td>\n",
       "      <td>http://www.pizzahut.com,http://www.pizzahut.com/</td>\n",
       "    </tr>\n",
       "    <tr>\n",
       "      <th>4</th>\n",
       "      <td>5065 Hollywood Blvd</td>\n",
       "      <td>Los Angeles</td>\n",
       "      <td>34.102100</td>\n",
       "      <td>-118.300040</td>\n",
       "      <td>Subway</td>\n",
       "      <td>90027</td>\n",
       "      <td>http://subway.com/</td>\n",
       "    </tr>\n",
       "  </tbody>\n",
       "</table>\n",
       "</div>"
      ],
      "text/plain": [
       "               address         city   latitude   longitude       name  \\\n",
       "0    735 S Figueroa St  Los Angeles  34.049246 -118.261753  Five Guys   \n",
       "1  11733 Barrington Ct  Los Angeles  34.064550 -118.469662     Subway   \n",
       "2   4949 W Slauson Ave  Los Angeles  33.987741 -118.364558     SUBWAY   \n",
       "3    12460 Venice Blvd  Los Angeles  34.002970 -118.434440  Pizza Hut   \n",
       "4  5065 Hollywood Blvd  Los Angeles  34.102100 -118.300040     Subway   \n",
       "\n",
       "   postalCode                                          websites  \n",
       "0       90017      http://fiveguys.com,http://www.fiveguys.com/  \n",
       "1       90049                                http://subway.com/  \n",
       "2       90056          http://www.subway.com,http://subway.com/  \n",
       "3       90066  http://www.pizzahut.com,http://www.pizzahut.com/  \n",
       "4       90027                                http://subway.com/  "
      ]
     },
     "execution_count": 15,
     "metadata": {},
     "output_type": "execute_result"
    }
   ],
   "source": [
    "# Dropping irrelevant features\n",
    "df.drop([\"keys\",\"province\"])\n",
    "df.drop([\"country\"],axis=1,inplace=True)\n",
    "df.head()"
   ]
  },
  {
   "cell_type": "code",
   "execution_count": 16,
   "metadata": {},
   "outputs": [
    {
     "data": {
      "text/plain": [
       "(33, 7)"
      ]
     },
     "execution_count": 16,
     "metadata": {},
     "output_type": "execute_result"
    }
   ],
   "source": [
    "# Checking for the number of samples\n",
    "df.shape"
   ]
  },
  {
   "cell_type": "code",
   "execution_count": 8,
   "metadata": {},
   "outputs": [
    {
     "name": "stdout",
     "output_type": "stream",
     "text": [
      "address\n",
      "False    33\n",
      "Name: address, dtype: int64\n",
      " \n",
      "city\n",
      "False    33\n",
      "Name: city, dtype: int64\n",
      " \n",
      "country\n",
      "False    33\n",
      "Name: country, dtype: int64\n",
      " \n",
      "keys\n",
      "False    33\n",
      "Name: keys, dtype: int64\n",
      " \n",
      "latitude\n",
      "False    33\n",
      "Name: latitude, dtype: int64\n",
      " \n",
      "longitude\n",
      "False    33\n",
      "Name: longitude, dtype: int64\n",
      " \n",
      "name\n",
      "False    33\n",
      "Name: name, dtype: int64\n",
      " \n",
      "postalCode\n",
      "False    33\n",
      "Name: postalCode, dtype: int64\n",
      " \n",
      "province\n",
      "False    33\n",
      "Name: province, dtype: int64\n",
      " \n",
      "websites\n",
      "False    28\n",
      "True      5\n",
      "Name: websites, dtype: int64\n",
      " \n"
     ]
    }
   ],
   "source": [
    "# Countingnumber of missing values, if any:\n",
    "for columns in missing_data:\n",
    "    print(columns)\n",
    "    print(missing_data[columns].value_counts())\n",
    "    print(\" \")"
   ]
  },
  {
   "cell_type": "markdown",
   "metadata": {},
   "source": [
    "I Found that Only website is having missing values. But that will be ok for me as Website is not affecting the location of the business."
   ]
  },
  {
   "cell_type": "code",
   "execution_count": 9,
   "metadata": {},
   "outputs": [
    {
     "name": "stdout",
     "output_type": "stream",
     "text": [
      "The geograpical coordinate of New York City are 34.0536909, -118.2427666.\n"
     ]
    }
   ],
   "source": [
    "# Testing for the location of the city.\n",
    "address = 'Los Angeles, United States'\n",
    "\n",
    "geolocator = Nominatim(user_agent=\"ny_explorer\")\n",
    "location = geolocator.geocode(address)\n",
    "latitude = location.latitude\n",
    "longitude = location.longitude\n",
    "print('The geograpical coordinate of New York City are {}, {}.'.format(latitude, longitude))"
   ]
  },
  {
   "cell_type": "markdown",
   "metadata": {},
   "source": [
    "# making Map of the restaurants"
   ]
  },
  {
   "cell_type": "code",
   "execution_count": 18,
   "metadata": {},
   "outputs": [
    {
     "data": {
      "text/html": [
       "<div style=\"width:100%;\"><div style=\"position:relative;width:100%;height:0;padding-bottom:60%;\"><span style=\"color:#565656\">Make this Notebook Trusted to load map: File -> Trust Notebook</span><iframe src=\"about:blank\" style=\"position:absolute;width:100%;height:100%;left:0;top:0;border:none !important;\" data-html=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 onload=\"this.contentDocument.open();this.contentDocument.write(atob(this.getAttribute('data-html')));this.contentDocument.close();\" allowfullscreen webkitallowfullscreen mozallowfullscreen></iframe></div></div>"
      ],
      "text/plain": [
       "<folium.folium.Map at 0x1ab82a18>"
      ]
     },
     "execution_count": 18,
     "metadata": {},
     "output_type": "execute_result"
    }
   ],
   "source": [
    "\n",
    "map_los_angeles = folium.Map(location=[latitude, longitude], zoom_start=10)\n",
    "\n",
    "# add markers to map\n",
    "for lat, lng, address,city in zip(df['latitude'], df['longitude'], df['address'], df['city']):\n",
    "    label = '{}, {}'.format(address, city)\n",
    "    label = folium.Popup(label, parse_html=True)\n",
    "    folium.CircleMarker(\n",
    "        [lat, lng],\n",
    "        radius=5,\n",
    "        popup=label,\n",
    "        color='blue',\n",
    "        fill=True,\n",
    "        fill_color='#3186cc',\n",
    "        fill_opacity=0.7,\n",
    "        parse_html=False).add_to(map_los_angeles)  \n",
    "    \n",
    "map_los_angeles"
   ]
  },
  {
   "cell_type": "code",
   "execution_count": null,
   "metadata": {},
   "outputs": [],
   "source": [
    "# map of los angeles restaurants as of 2017 are above."
   ]
  }
 ],
 "metadata": {
  "kernelspec": {
   "display_name": "Python 3",
   "language": "python",
   "name": "python3"
  },
  "language_info": {
   "codemirror_mode": {
    "name": "ipython",
    "version": 3
   },
   "file_extension": ".py",
   "mimetype": "text/x-python",
   "name": "python",
   "nbconvert_exporter": "python",
   "pygments_lexer": "ipython3",
   "version": "3.8.0"
  }
 },
 "nbformat": 4,
 "nbformat_minor": 4
}
